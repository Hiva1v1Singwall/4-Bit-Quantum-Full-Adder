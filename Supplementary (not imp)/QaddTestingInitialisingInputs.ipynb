{
 "cells": [
  {
   "cell_type": "markdown",
   "metadata": {},
   "source": [
    "![](https://upload.wikimedia.org/wikipedia/commons/0/0a/Quantum_Full_Adder.png?20210806154655)"
   ]
  },
  {
   "cell_type": "markdown",
   "metadata": {},
   "source": [
    "Exploring various ways to get the required test case states initialised: This is a very rough attempt"
   ]
  },
  {
   "cell_type": "code",
   "execution_count": 31,
   "metadata": {},
   "outputs": [
    {
     "data": {
      "application/javascript": "\n        if (window._pyforest_update_imports_cell) { window._pyforest_update_imports_cell('import numpy as np'); }\n    ",
      "text/plain": [
       "<IPython.core.display.Javascript object>"
      ]
     },
     "metadata": {},
     "output_type": "display_data"
    },
    {
     "data": {
      "application/javascript": "\n        if (window._pyforest_update_imports_cell) { window._pyforest_update_imports_cell('import numpy as np'); }\n    ",
      "text/plain": [
       "<IPython.core.display.Javascript object>"
      ]
     },
     "metadata": {},
     "output_type": "display_data"
    },
    {
     "data": {
      "image/png": "[encoded data removed]",
      "text/plain": [
       "<Figure size 672.241x325.08 with 1 Axes>"
      ]
     },
     "execution_count": 31,
     "metadata": {},
     "output_type": "execute_result"
    }
   ],
   "source": [
    "from qiskit import QuantumCircuit, transpile, assemble, Aer, execute\n",
    "from qiskit.tools.visualization import plot_bloch_multivector\n",
    "from qiskit.tools.visualization import plot_histogram\n",
    "qc = QuantumCircuit(4,4)\n",
    "initial_state = np.array([0, 0,1, 0,1,0,0,0,0,0,0,0,0,0,0,0], dtype=float)\n",
    "initial_state /= np.linalg.norm(initial_state)\n",
    "qc.initialize(initial_state)\n",
    "# qc.x(1)\n",
    "# qc.h(2)\n",
    "# qc.cx(2,1)\n",
    "qc.measure([3,2,1,0], [3,2,1,0])\n",
    "qc.draw(plot_barriers=True, initial_state=True, scale=1,output='mpl')"
   ]
  },
  {
   "cell_type": "code",
   "execution_count": 32,
   "metadata": {},
   "outputs": [
    {
     "name": "stdout",
     "output_type": "stream",
     "text": [
      "Statevector([0.+0.j, 0.+0.j, 1.+0.j, 0.+0.j, 0.+0.j, 0.+0.j, 0.+0.j,\n",
      "             0.+0.j, 0.+0.j, 0.+0.j, 0.+0.j, 0.+0.j, 0.+0.j, 0.+0.j,\n",
      "             0.+0.j, 0.+0.j],\n",
      "            dims=(2, 2, 2, 2))\n"
     ]
    }
   ],
   "source": [
    "simulator = Aer.get_backend('statevector_simulator')\n",
    "statevector = execute(qc, simulator).result().get_statevector()\n",
    "# normalized_statevector = statevector / (2 ** 0.5)\n",
    "# print(normalized_statevector)\n",
    "print(statevector)"
   ]
  },
  {
   "cell_type": "code",
   "execution_count": 33,
   "metadata": {},
   "outputs": [
    {
     "name": "stdout",
     "output_type": "stream",
     "text": [
      "{'0010': 543, '0100': 481}\n"
     ]
    }
   ],
   "source": [
    "counts = execute(qc,Aer.get_backend('qasm_simulator')).result().get_counts()\n",
    "print(counts)"
   ]
  },
  {
   "cell_type": "code",
   "execution_count": 34,
   "metadata": {},
   "outputs": [
    {
     "name": "stdout",
     "output_type": "stream",
     "text": [
      "Probability of |0010>: 0.5302734375\n",
      "Probability of |0100>: 0.4697265625\n"
     ]
    }
   ],
   "source": [
    "# Print the probabilities of all classical states\n",
    "total_shots = sum(counts.values())\n",
    "for classical_state in counts:\n",
    "    probability = counts[classical_state] / total_shots\n",
    "    print(f\"Probability of |{classical_state}>: {probability}\")"
   ]
  },
  {
   "cell_type": "markdown",
   "metadata": {},
   "source": [
    "![](https://hackmd.io/_uploads/BJVOZkQD2.png)"
   ]
  },
  {
   "cell_type": "code",
   "execution_count": 35,
   "metadata": {},
   "outputs": [
    {
     "data": {
      "image/png": "[encoded data removed]",
      "text/plain": [
       "<Figure size 551.841x325.08 with 1 Axes>"
      ]
     },
     "execution_count": 35,
     "metadata": {},
     "output_type": "execute_result"
    }
   ],
   "source": [
    "qc = QuantumCircuit(4,4)\n",
    "qc.x(0)\n",
    "qc.x(3)\n",
    "qc.h(3)\n",
    "qc.cx(3,1)\n",
    "qc.measure([3,2,1,0], [3,2,1,0])\n",
    "qc.draw(plot_barriers=True, initial_state=True, scale=1,output='mpl')"
   ]
  },
  {
   "cell_type": "code",
   "execution_count": 36,
   "metadata": {},
   "outputs": [
    {
     "name": "stdout",
     "output_type": "stream",
     "text": [
      "Statevector([ 0.        +0.00000000e+00j,  0.        +0.00000000e+00j,\n",
      "              0.        +0.00000000e+00j,  0.        +0.00000000e+00j,\n",
      "              0.        +0.00000000e+00j,  0.        +0.00000000e+00j,\n",
      "              0.        +0.00000000e+00j,  0.        +0.00000000e+00j,\n",
      "              0.        +0.00000000e+00j,  0.        +0.00000000e+00j,\n",
      "              0.        +0.00000000e+00j, -0.70710678-8.65956056e-17j,\n",
      "              0.        +0.00000000e+00j,  0.        +0.00000000e+00j,\n",
      "              0.        +0.00000000e+00j,  0.        +0.00000000e+00j],\n",
      "            dims=(2, 2, 2, 2))\n",
      "Statevector([ 0.+0.0000000e+00j,  0.+0.0000000e+00j,  0.+0.0000000e+00j,\n",
      "              0.+0.0000000e+00j,  0.+0.0000000e+00j,  0.+0.0000000e+00j,\n",
      "              0.+0.0000000e+00j,  0.+0.0000000e+00j,  0.+0.0000000e+00j,\n",
      "              0.+0.0000000e+00j,  0.+0.0000000e+00j, -1.-1.2246468e-16j,\n",
      "              0.+0.0000000e+00j,  0.+0.0000000e+00j,  0.+0.0000000e+00j,\n",
      "              0.+0.0000000e+00j],\n",
      "            dims=(2, 2, 2, 2))\n"
     ]
    }
   ],
   "source": [
    "simulator = Aer.get_backend('statevector_simulator')\n",
    "statevector = execute(qc, simulator).result().get_statevector()\n",
    "normalized_statevector = statevector / (2 ** 0.5)\n",
    "print(normalized_statevector)\n",
    "print(statevector)"
   ]
  },
  {
   "cell_type": "code",
   "execution_count": 37,
   "metadata": {},
   "outputs": [
    {
     "name": "stdout",
     "output_type": "stream",
     "text": [
      "{'0001': 524, '1011': 500}\n"
     ]
    }
   ],
   "source": [
    "counts = execute(qc,Aer.get_backend('qasm_simulator')).result().get_counts()\n",
    "print(counts)"
   ]
  },
  {
   "cell_type": "code",
   "execution_count": 38,
   "metadata": {},
   "outputs": [
    {
     "name": "stdout",
     "output_type": "stream",
     "text": [
      "Probability of |0001>: 0.51171875\n",
      "Probability of |1011>: 0.48828125\n"
     ]
    }
   ],
   "source": [
    "# Print the probabilities of all classical states\n",
    "total_shots = sum(counts.values())\n",
    "for classical_state in counts:\n",
    "    probability = counts[classical_state] / total_shots\n",
    "    print(f\"Probability of |{classical_state}>: {probability}\")"
   ]
  },
  {
   "cell_type": "code",
   "execution_count": 39,
   "metadata": {},
   "outputs": [],
   "source": [
    "# from qiskit import QuantumCircuit, transpile, assemble, Aer, execute\n",
    "\n",
    "# # Create a 4-qubit quantum circuit\n",
    "# qc = QuantumCircuit(4)\n",
    "\n",
    "# # Apply X gates to set the desired initial states\n",
    "# qc.x(1)  # |0010>\n",
    "# qc.x(2)  # |0100>\n",
    "\n",
    "# # Apply Hadamard gates to create superposition\n",
    "# qc.h(range(4))\n",
    "\n",
    "# # Normalize the state vector by dividing by sqrt(2)\n",
    "# simulator = Aer.get_backend('statevector_simulator')\n",
    "# job = execute(qc, simulator)\n",
    "# result = job.result()\n",
    "# statevector = result.get_statevector()\n",
    "\n",
    "# normalized_statevector = statevector / (2 ** 0.5)\n",
    "\n",
    "# print(normalized_statevector)"
   ]
  },
  {
   "cell_type": "code",
   "execution_count": 40,
   "metadata": {},
   "outputs": [
    {
     "name": "stdout",
     "output_type": "stream",
     "text": [
      "{'0001': 510, '1011': 514}\n"
     ]
    }
   ],
   "source": [
    "# Run the experimient 1024 times and get stats\n",
    "counts = execute(qc,Aer.get_backend('qasm_simulator')).result().get_counts()\n",
    "print(counts)"
   ]
  },
  {
   "cell_type": "code",
   "execution_count": 41,
   "metadata": {},
   "outputs": [
    {
     "name": "stdout",
     "output_type": "stream",
     "text": [
      "Probability of |0001>: 0.498046875\n",
      "Probability of |1011>: 0.501953125\n"
     ]
    }
   ],
   "source": [
    "# Print the probabilities of all classical states\n",
    "total_shots = sum(counts.values())\n",
    "for classical_state in counts:\n",
    "    probability = counts[classical_state] / total_shots\n",
    "    print(f\"Probability of |{classical_state}>: {probability}\")"
   ]
  },
  {
   "cell_type": "markdown",
   "metadata": {},
   "source": [
    "![](https://hackmd.io/_uploads/rJZvMyXw3.png) "
   ]
  },
  {
   "cell_type": "code",
   "execution_count": 42,
   "metadata": {},
   "outputs": [
    {
     "data": {
      "image/png": "[encoded data removed]",
      "text/plain": [
       "<Figure size 431.441x325.08 with 1 Axes>"
      ]
     },
     "execution_count": 42,
     "metadata": {},
     "output_type": "execute_result"
    }
   ],
   "source": [
    "# B\n",
    "qc = QuantumCircuit(4,4)\n",
    "qc.h(2)\n",
    "qc.cx(2,1)\n",
    "qc.cx(1,0)\n",
    "qc.measure([3,2,1,0], [3,2,1,0])\n",
    "qc.draw(plot_barriers=True, initial_state=True, scale=1,output='mpl')"
   ]
  },
  {
   "cell_type": "code",
   "execution_count": 43,
   "metadata": {},
   "outputs": [
    {
     "name": "stdout",
     "output_type": "stream",
     "text": [
      "Statevector([0.70710678+0.j, 0.        +0.j, 0.        +0.j,\n",
      "             0.        +0.j, 0.        +0.j, 0.        +0.j,\n",
      "             0.        +0.j, 0.        +0.j, 0.        +0.j,\n",
      "             0.        +0.j, 0.        +0.j, 0.        +0.j,\n",
      "             0.        +0.j, 0.        +0.j, 0.        +0.j,\n",
      "             0.        +0.j],\n",
      "            dims=(2, 2, 2, 2))\n",
      "Statevector([1.+0.j, 0.+0.j, 0.+0.j, 0.+0.j, 0.+0.j, 0.+0.j, 0.+0.j,\n",
      "             0.+0.j, 0.+0.j, 0.+0.j, 0.+0.j, 0.+0.j, 0.+0.j, 0.+0.j,\n",
      "             0.+0.j, 0.+0.j],\n",
      "            dims=(2, 2, 2, 2))\n"
     ]
    }
   ],
   "source": [
    "simulator = Aer.get_backend('statevector_simulator')\n",
    "statevector = execute(qc, simulator).result().get_statevector()\n",
    "normalized_statevector = statevector / (2 ** 0.5)\n",
    "print(normalized_statevector)\n",
    "print(statevector)"
   ]
  },
  {
   "cell_type": "code",
   "execution_count": 44,
   "metadata": {},
   "outputs": [
    {
     "name": "stdout",
     "output_type": "stream",
     "text": [
      "{'0000': 509, '0111': 515}\n"
     ]
    }
   ],
   "source": [
    "counts = execute(qc,Aer.get_backend('qasm_simulator')).result().get_counts()\n",
    "print(counts)"
   ]
  },
  {
   "cell_type": "code",
   "execution_count": 45,
   "metadata": {},
   "outputs": [
    {
     "name": "stdout",
     "output_type": "stream",
     "text": [
      "Probability of |0000>: 0.4970703125\n",
      "Probability of |0111>: 0.5029296875\n"
     ]
    }
   ],
   "source": [
    "# Print the probabilities of all classical states\n",
    "total_shots = sum(counts.values())\n",
    "for classical_state in counts:\n",
    "    probability = counts[classical_state] / total_shots\n",
    "    print(f\"Probability of |{classical_state}>: {probability}\")"
   ]
  },
  {
   "cell_type": "code",
   "execution_count": 46,
   "metadata": {},
   "outputs": [
    {
     "data": {
      "image/png": "[encoded data removed]",
      "text/plain": [
       "<Figure size 612.041x325.08 with 1 Axes>"
      ]
     },
     "execution_count": 46,
     "metadata": {},
     "output_type": "execute_result"
    }
   ],
   "source": [
    "# B\n",
    "qc = QuantumCircuit(4,4)\n",
    "qc.x(0)\n",
    "qc.x(1)\n",
    "qc.x(2)\n",
    "qc.h(3)\n",
    "qc.cx(3,2)\n",
    "qc.cx(3,1)\n",
    "qc.cx(3,0)\n",
    "\n",
    "qc.measure([3,2,1,0], [3,2,1,0])\n",
    "qc.draw(plot_barriers=True, initial_state=True, scale=1,output='mpl')"
   ]
  },
  {
   "cell_type": "code",
   "execution_count": 47,
   "metadata": {},
   "outputs": [
    {
     "name": "stdout",
     "output_type": "stream",
     "text": [
      "Statevector([0.        +0.j, 0.        +0.j, 0.        +0.j,\n",
      "             0.        +0.j, 0.        +0.j, 0.        +0.j,\n",
      "             0.        +0.j, 0.        +0.j, 0.70710678+0.j,\n",
      "             0.        +0.j, 0.        +0.j, 0.        +0.j,\n",
      "             0.        +0.j, 0.        +0.j, 0.        +0.j,\n",
      "             0.        +0.j],\n",
      "            dims=(2, 2, 2, 2))\n",
      "Statevector([0.+0.j, 0.+0.j, 0.+0.j, 0.+0.j, 0.+0.j, 0.+0.j, 0.+0.j,\n",
      "             0.+0.j, 1.+0.j, 0.+0.j, 0.+0.j, 0.+0.j, 0.+0.j, 0.+0.j,\n",
      "             0.+0.j, 0.+0.j],\n",
      "            dims=(2, 2, 2, 2))\n"
     ]
    }
   ],
   "source": [
    "simulator = Aer.get_backend('statevector_simulator')\n",
    "statevector = execute(qc, simulator).result().get_statevector()\n",
    "normalized_statevector = statevector / (2 ** 0.5)\n",
    "print(normalized_statevector)\n",
    "print(statevector)"
   ]
  },
  {
   "cell_type": "code",
   "execution_count": 48,
   "metadata": {},
   "outputs": [
    {
     "name": "stdout",
     "output_type": "stream",
     "text": [
      "{'1000': 521, '0111': 503}\n"
     ]
    }
   ],
   "source": [
    "counts = execute(qc,Aer.get_backend('qasm_simulator')).result().get_counts()\n",
    "print(counts)"
   ]
  },
  {
   "cell_type": "code",
   "execution_count": 49,
   "metadata": {},
   "outputs": [
    {
     "name": "stdout",
     "output_type": "stream",
     "text": [
      "Probability of |1000>: 0.5087890625\n",
      "Probability of |0111>: 0.4912109375\n"
     ]
    }
   ],
   "source": [
    "# Print the probabilities of all classical states\n",
    "total_shots = sum(counts.values())\n",
    "for classical_state in counts:\n",
    "    probability = counts[classical_state] / total_shots\n",
    "    print(f\"Probability of |{classical_state}>: {probability}\")"
   ]
  },
  {
   "cell_type": "code",
   "execution_count": 50,
   "metadata": {},
   "outputs": [
    {
     "data": {
      "image/png": "[encoded data removed]",
      "text/plain": [
       "<Figure size 612.041x325.08 with 1 Axes>"
      ]
     },
     "execution_count": 50,
     "metadata": {},
     "output_type": "execute_result"
    }
   ],
   "source": [
    "qc = QuantumCircuit(4,4)\n",
    "qc.h(0)\n",
    "qc.h(1)\n",
    "# qc.h(2)\n",
    "# qc.h(3)\n",
    "qc.cz(1,2)\n",
    "qc.cz(1,3)\n",
    "qc.cz(2,3)\n",
    "# qc.x(1)\n",
    "# qc.h(2)\n",
    "# qc.cx(2,1)\n",
    "qc.measure([3,2,1,0], [3,2,1,0])\n",
    "qc.draw(plot_barriers=True, initial_state=True, scale=1,output='mpl')"
   ]
  },
  {
   "cell_type": "code",
   "execution_count": 51,
   "metadata": {},
   "outputs": [
    {
     "name": "stdout",
     "output_type": "stream",
     "text": [
      "Statevector([ 0.        +0.j,  0.70710678+0.j,  0.        +0.j,\n",
      "              0.        +0.j,  0.        +0.j,  0.        +0.j,\n",
      "             -0.        +0.j, -0.        +0.j,  0.        +0.j,\n",
      "              0.        +0.j, -0.        +0.j, -0.        +0.j,\n",
      "             -0.        +0.j, -0.        +0.j,  0.        +0.j,\n",
      "              0.        +0.j],\n",
      "            dims=(2, 2, 2, 2))\n",
      "Statevector([ 0.+0.j,  1.+0.j,  0.+0.j,  0.+0.j,  0.+0.j,  0.+0.j, -0.+0.j,\n",
      "             -0.+0.j,  0.+0.j,  0.+0.j, -0.+0.j, -0.+0.j, -0.+0.j, -0.+0.j,\n",
      "              0.+0.j,  0.+0.j],\n",
      "            dims=(2, 2, 2, 2))\n"
     ]
    }
   ],
   "source": [
    "simulator = Aer.get_backend('statevector_simulator')\n",
    "statevector = execute(qc, simulator).result().get_statevector()\n",
    "normalized_statevector = statevector / (2 ** 0.5)\n",
    "print(normalized_statevector)\n",
    "print(statevector)"
   ]
  },
  {
   "cell_type": "code",
   "execution_count": 52,
   "metadata": {},
   "outputs": [
    {
     "name": "stdout",
     "output_type": "stream",
     "text": [
      "{'0011': 258, '0000': 244, '0001': 265, '0010': 257}\n"
     ]
    }
   ],
   "source": [
    "counts = execute(qc,Aer.get_backend('qasm_simulator')).result().get_counts()\n",
    "print(counts)"
   ]
  },
  {
   "cell_type": "code",
   "execution_count": 53,
   "metadata": {},
   "outputs": [
    {
     "name": "stdout",
     "output_type": "stream",
     "text": [
      "Probability of |0011>: 0.251953125\n",
      "Probability of |0000>: 0.23828125\n",
      "Probability of |0001>: 0.2587890625\n",
      "Probability of |0010>: 0.2509765625\n"
     ]
    }
   ],
   "source": [
    "# Print the probabilities of all classical states\n",
    "total_shots = sum(counts.values())\n",
    "for classical_state in counts:\n",
    "    probability = counts[classical_state] / total_shots\n",
    "    print(f\"Probability of |{classical_state}>: {probability}\")"
   ]
  },
  {
   "cell_type": "markdown",
   "metadata": {},
   "source": [
    "# Single Qubit adder"
   ]
  },
  {
   "cell_type": "code",
   "execution_count": 54,
   "metadata": {},
   "outputs": [
    {
     "data": {
      "image/png": "[encoded data removed]",
      "text/plain": [
       "<Figure size 512.709x227.556 with 1 Axes>"
      ]
     },
     "execution_count": 54,
     "metadata": {},
     "output_type": "execute_result"
    }
   ],
   "source": [
    "from qiskit import QuantumCircuit, transpile, assemble, Aer, execute\n",
    "from qiskit.tools.visualization import plot_bloch_multivector\n",
    "from qiskit.tools.visualization import plot_histogram\n",
    "\n",
    "# Create a quantum circuit with 5 qubits (2 input bits, 2 output bits, and 1 carry bit)\n",
    "qc = QuantumCircuit(4, 2)\n",
    "A = '1'\n",
    "B = '0'\n",
    "for i, bit in enumerate(A):\n",
    "    if bit == '1':\n",
    "        qc.x(3*i+1)\n",
    "        \n",
    "for i, bit in enumerate(B):\n",
    "    if bit == '1':\n",
    "        qc.x(3*i+2)\n",
    "\n",
    "qc.barrier()\n",
    "qc.ccx(1,2,3)\n",
    "qc.cx(1,2)\n",
    "qc.ccx(0,2,3)\n",
    "qc.cx(2,0)\n",
    "qc.cx(1,2)\n",
    "qc.barrier()\n",
    "\n",
    "# Measure the output bits\n",
    "qc.measure([3,0], [1,0])\n",
    "qc.draw(plot_barriers=True, initial_state=True, scale=0.7,output='mpl')"
   ]
  },
  {
   "cell_type": "code",
   "execution_count": 55,
   "metadata": {},
   "outputs": [
    {
     "name": "stdout",
     "output_type": "stream",
     "text": [
      "{'01': 1024}\n"
     ]
    }
   ],
   "source": [
    "# Run the experimient 1024 times and get stats\n",
    "counts = execute(qc,Aer.get_backend('qasm_simulator')).result().get_counts()\n",
    "print(counts)"
   ]
  },
  {
   "cell_type": "code",
   "execution_count": 56,
   "metadata": {},
   "outputs": [
    {
     "name": "stdout",
     "output_type": "stream",
     "text": [
      "1\n"
     ]
    }
   ],
   "source": [
    "for i, bit in enumerate(A):\n",
    "    if bit == '1':\n",
    "        # qc.x(3*i+1)  \n",
    "        print(3*i+1)\n",
    "        # print(A)"
   ]
  },
  {
   "cell_type": "markdown",
   "metadata": {},
   "source": [
    "# Double Qubit adder"
   ]
  },
  {
   "cell_type": "code",
   "execution_count": 57,
   "metadata": {},
   "outputs": [
    {
     "data": {
      "image/png": "[encoded data removed]",
      "text/plain": [
       "<Figure size 849.829x353.976 with 1 Axes>"
      ]
     },
     "execution_count": 57,
     "metadata": {},
     "output_type": "execute_result"
    }
   ],
   "source": [
    "from qiskit import QuantumCircuit, transpile, assemble, Aer, execute\n",
    "from qiskit.tools.visualization import plot_bloch_multivector\n",
    "from qiskit.tools.visualization import plot_histogram\n",
    "\n",
    "# Create a quantum circuit with 5 qubits (2 input bits, 2 output bits, and 1 carry bit)\n",
    "qc = QuantumCircuit(7, 3)\n",
    "A = '01'\n",
    "B = '00'\n",
    "for i, bit in enumerate(A):\n",
    "    if bit == '1':\n",
    "        qc.x(3*i+1)    \n",
    "for i, bit in enumerate(B):\n",
    "    if bit == '1':\n",
    "        qc.x(3*i+2)\n",
    "\n",
    "qc.barrier()\n",
    "qc.barrier()\n",
    "qc.measure([6,3,0], [2,1,0])\n",
    "qc.ccx(1,2,3)\n",
    "qc.cx(1,2)\n",
    "qc.ccx(2,0,3)\n",
    "qc.cx(2,0)\n",
    "qc.cx(1,2)\n",
    "qc.barrier()\n",
    "qc.ccx(1+3,2+3,3+3)\n",
    "qc.cx(1+3,2+3)\n",
    "qc.ccx(0+3,2+3,3+3)\n",
    "qc.cx(2+3,0+3)\n",
    "qc.cx(1+3,2+3)\n",
    "qc.barrier()\n",
    "# Measure the output bits\n",
    "# qc.measure([6,3,0], [2,1,0])\n",
    "qc.draw(plot_barriers=True, initial_state=True, scale=0.7,output='mpl')\n"
   ]
  },
  {
   "cell_type": "code",
   "execution_count": 58,
   "metadata": {},
   "outputs": [
    {
     "name": "stdout",
     "output_type": "stream",
     "text": [
      "{'000': 1024}\n"
     ]
    }
   ],
   "source": [
    "# Run the experimient 1024 times and get stats\n",
    "counts = execute(qc,Aer.get_backend('qasm_simulator')).result().get_counts()\n",
    "print(counts)"
   ]
  },
  {
   "cell_type": "code",
   "execution_count": 59,
   "metadata": {},
   "outputs": [
    {
     "data": {
      "image/png": "[encoded data removed]",
      "text/plain": [
       "<Figure size 504x360 with 1 Axes>"
      ]
     },
     "execution_count": 59,
     "metadata": {},
     "output_type": "execute_result"
    }
   ],
   "source": [
    "plot_histogram(counts)"
   ]
  },
  {
   "cell_type": "code",
   "execution_count": 60,
   "metadata": {},
   "outputs": [
    {
     "data": {
      "image/png": "[encoded data removed]",
      "text/plain": [
       "<Figure size 512.709x227.556 with 1 Axes>"
      ]
     },
     "execution_count": 60,
     "metadata": {},
     "output_type": "execute_result"
    }
   ],
   "source": [
    "from qiskit import QuantumCircuit, transpile, assemble, Aer, execute\n",
    "from qiskit.tools.visualization import plot_bloch_multivector\n",
    "from qiskit.tools.visualization import plot_histogram\n",
    "\n",
    "# Create a quantum circuit with 5 qubits (2 input bits, 2 output bits, and 1 carry bit)\n",
    "qc = QuantumCircuit(4, 2)\n",
    "\n",
    "# the input values (A = 1101, B = 0111)\n",
    "A = '1'\n",
    "B = '1'\n",
    "\n",
    "# Encode the input values onto the quantum state\n",
    "\n",
    "# qc.initialize([1/np.sqrt(2), 1/np.sqrt(2)], 0)\n",
    "# qc.initialize([1/np.sqrt(2), 1/np.sqrt(2)], 0)\n",
    "# qc.initialize([1/np.sqrt(2), 1/np.sqrt(2)], 0)\n",
    "# qc.initialize([1/np.sqrt(2), 1/np.sqrt(2)], 0)\n",
    "# qc.initialize([1/np.sqrt(2), 1/np.sqrt(2)], 0)\n",
    "# qc.initialize([1/np.sqrt(2), 1/np.sqrt(2)], 0)\n",
    "# qc.initialize([1/np.sqrt(2), 1/np.sqrt(2)], 0)\n",
    "# qc.initialize([1/np.sqrt(2), 1/np.sqrt(2)], 0)\n",
    "\n",
    "for i, bit in enumerate(A):\n",
    "    if bit == '1':\n",
    "        qc.x(3*i+1)\n",
    "        \n",
    "for i, bit in enumerate(B):\n",
    "    if bit == '1':\n",
    "        qc.x(3*i+2)\n",
    "\n",
    "# A single Full Adder ckt using CNOT (cx) and Toffoli (ccx) gates\n",
    "\n",
    "\n",
    "\n",
    "qc.barrier()\n",
    "qc.ccx(1,2,3)\n",
    "qc.cx(1,2)\n",
    "qc.ccx(0,2,3)\n",
    "qc.cx(2,0)\n",
    "qc.cx(1,2)\n",
    "qc.barrier()\n",
    "# qc.ccx(1+3,2+3,3+3)\n",
    "# qc.cx(1+3,2+3)\n",
    "# qc.ccx(0+3,2+3,3+3)\n",
    "# qc.cx(2+3,0+3)\n",
    "# qc.cx(1+3,2+3)\n",
    "# qc.barrier()\n",
    "# qc.ccx(1+6,2+6,3+6)\n",
    "# qc.cx(1+6,2+6)\n",
    "# qc.ccx(0+6,2+6,3+6)\n",
    "# qc.cx(2+6,0+6)\n",
    "# qc.cx(1+6,2+6)\n",
    "# qc.barrier()\n",
    "# qc.ccx(1+9,2+9,3+9)\n",
    "# qc.cx(1+9,2+9)\n",
    "# qc.ccx(0+9,2+9,3+9)\n",
    "# qc.cx(2+9,0+9)\n",
    "# qc.cx(1+9,2+9)\n",
    "# qc.barrier()\n",
    "\n",
    "# Measure the output bits\n",
    "# qc.measure([12,9,6,3,0], [4,3,2,1,0])\n",
    "qc.measure([3,0], [1,0])\n",
    "qc.draw(plot_barriers=True, initial_state=True, scale=0.7,output='mpl')"
   ]
  }
 ],
 "metadata": {
  "kernelspec": {
   "display_name": "Python 3",
   "language": "python",
   "name": "python3"
  },
  "language_info": {
   "codemirror_mode": {
    "name": "ipython",
    "version": 3
   },
   "file_extension": ".py",
   "mimetype": "text/x-python",
   "name": "python",
   "nbconvert_exporter": "python",
   "pygments_lexer": "ipython3",
   "version": "3.10.4"
  },
  "orig_nbformat": 4
 },
 "nbformat": 4,
 "nbformat_minor": 2
}
